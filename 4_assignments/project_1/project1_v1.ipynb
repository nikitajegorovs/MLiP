{
 "cells": [
  {
   "cell_type": "markdown",
   "id": "8281b6f8",
   "metadata": {},
   "source": [
    "# Machine Learning in Python - Project 1\n",
    "\n",
    "Due Friday, March 8th by 4 pm.\n",
    "\n",
    "*Pablo Denis González de Vega, Mary O'Brien, Dexter Black, Nikita Jegorovs*"
   ]
  },
  {
   "cell_type": "markdown",
   "id": "821233d2",
   "metadata": {},
   "source": [
    "## Setup\n",
    "\n",
    "*Install any packages here and load data*"
   ]
  },
  {
   "cell_type": "code",
   "execution_count": 1,
   "id": "7e1ba94a",
   "metadata": {
    "ExecuteTime": {
     "end_time": "2024-03-09T13:06:35.083197Z",
     "start_time": "2024-03-09T13:06:34.836661Z"
    }
   },
   "outputs": [],
   "source": [
    "# Add any additional libraries or submodules below\n",
    "\n",
    "# Data libraries\n",
    "import pandas as pd\n",
    "import numpy as np\n",
    "\n",
    "# Plotting libraries\n",
    "import matplotlib.pyplot as plt\n",
    "import seaborn as sns\n",
    "\n",
    "# Plotting defaults\n",
    "plt.rcParams['figure.figsize'] = (8,5)\n",
    "plt.rcParams['figure.dpi'] = 80\n",
    "\n",
    "# sklearn modules\n",
    "import sklearn\n",
    "from sklearn.model_selection import train_test_split, KFold, cross_validate"
   ]
  },
  {
   "cell_type": "code",
   "execution_count": 19,
   "id": "62abe5f5",
   "metadata": {
    "ExecuteTime": {
     "end_time": "2024-03-09T13:21:58.409992Z",
     "start_time": "2024-03-09T13:21:56.427036Z"
    }
   },
   "outputs": [
    {
     "name": "stdout",
     "output_type": "stream",
     "text": [
      "   wave  unique_years\n",
      "0   1.0             3\n",
      "1   2.0             4\n",
      "2   4.0             3\n",
      "3   5.0             1\n",
      "4   6.0             1\n",
      "5   7.0             1\n",
      "6   8.0             2\n"
     ]
    },
    {
     "data": {
      "text/plain": "        mergeid  int_year  wave  country  country_mod  female        age  \\\n0  AT-000674-01    2011.0   4.0     11.0         40.0     1.0  59.700001   \n1  AT-001215-01    2011.0   4.0     11.0         40.0     1.0  72.599998   \n2  AT-001492-01    2011.0   4.0     11.0         40.0     1.0  59.599998   \n3  AT-001492-02    2011.0   4.0     11.0         40.0     0.0  59.799999   \n4  AT-001816-01    2004.0   1.0     11.0         40.0     1.0  61.299999   \n\n   birth_country  citizenship  isced1997_r  ...  bmi2  smoking  ever_smoked  \\\n0           40.0         40.0          5.0  ...   2.0      5.0          5.0   \n1          528.0        528.0          5.0  ...   3.0      1.0          1.0   \n2           40.0         40.0          3.0  ...   2.0      5.0          1.0   \n3           40.0         40.0          4.0  ...   2.0      1.0          1.0   \n4           40.0         40.0          3.0  ...   2.0      5.0          1.0   \n\n   br010_mod  br015_  casp  chronic_mod  sp008_  ch001_  cogscore  \n0        5.0     1.0  44.0          1.0     5.0     2.0       8.0  \n1        2.0     1.0  35.0          6.0     1.0     0.0      14.5  \n2        7.0     2.0  43.0          1.0     5.0     6.0      18.5  \n3        7.0     3.0  47.0          1.0     NaN     6.0      24.0  \n4        4.0     3.0  43.0          0.0     5.0     2.0      20.0  \n\n[5 rows x 23 columns]",
      "text/html": "<div>\n<style scoped>\n    .dataframe tbody tr th:only-of-type {\n        vertical-align: middle;\n    }\n\n    .dataframe tbody tr th {\n        vertical-align: top;\n    }\n\n    .dataframe thead th {\n        text-align: right;\n    }\n</style>\n<table border=\"1\" class=\"dataframe\">\n  <thead>\n    <tr style=\"text-align: right;\">\n      <th></th>\n      <th>mergeid</th>\n      <th>int_year</th>\n      <th>wave</th>\n      <th>country</th>\n      <th>country_mod</th>\n      <th>female</th>\n      <th>age</th>\n      <th>birth_country</th>\n      <th>citizenship</th>\n      <th>isced1997_r</th>\n      <th>...</th>\n      <th>bmi2</th>\n      <th>smoking</th>\n      <th>ever_smoked</th>\n      <th>br010_mod</th>\n      <th>br015_</th>\n      <th>casp</th>\n      <th>chronic_mod</th>\n      <th>sp008_</th>\n      <th>ch001_</th>\n      <th>cogscore</th>\n    </tr>\n  </thead>\n  <tbody>\n    <tr>\n      <th>0</th>\n      <td>AT-000674-01</td>\n      <td>2011.0</td>\n      <td>4.0</td>\n      <td>11.0</td>\n      <td>40.0</td>\n      <td>1.0</td>\n      <td>59.700001</td>\n      <td>40.0</td>\n      <td>40.0</td>\n      <td>5.0</td>\n      <td>...</td>\n      <td>2.0</td>\n      <td>5.0</td>\n      <td>5.0</td>\n      <td>5.0</td>\n      <td>1.0</td>\n      <td>44.0</td>\n      <td>1.0</td>\n      <td>5.0</td>\n      <td>2.0</td>\n      <td>8.0</td>\n    </tr>\n    <tr>\n      <th>1</th>\n      <td>AT-001215-01</td>\n      <td>2011.0</td>\n      <td>4.0</td>\n      <td>11.0</td>\n      <td>40.0</td>\n      <td>1.0</td>\n      <td>72.599998</td>\n      <td>528.0</td>\n      <td>528.0</td>\n      <td>5.0</td>\n      <td>...</td>\n      <td>3.0</td>\n      <td>1.0</td>\n      <td>1.0</td>\n      <td>2.0</td>\n      <td>1.0</td>\n      <td>35.0</td>\n      <td>6.0</td>\n      <td>1.0</td>\n      <td>0.0</td>\n      <td>14.5</td>\n    </tr>\n    <tr>\n      <th>2</th>\n      <td>AT-001492-01</td>\n      <td>2011.0</td>\n      <td>4.0</td>\n      <td>11.0</td>\n      <td>40.0</td>\n      <td>1.0</td>\n      <td>59.599998</td>\n      <td>40.0</td>\n      <td>40.0</td>\n      <td>3.0</td>\n      <td>...</td>\n      <td>2.0</td>\n      <td>5.0</td>\n      <td>1.0</td>\n      <td>7.0</td>\n      <td>2.0</td>\n      <td>43.0</td>\n      <td>1.0</td>\n      <td>5.0</td>\n      <td>6.0</td>\n      <td>18.5</td>\n    </tr>\n    <tr>\n      <th>3</th>\n      <td>AT-001492-02</td>\n      <td>2011.0</td>\n      <td>4.0</td>\n      <td>11.0</td>\n      <td>40.0</td>\n      <td>0.0</td>\n      <td>59.799999</td>\n      <td>40.0</td>\n      <td>40.0</td>\n      <td>4.0</td>\n      <td>...</td>\n      <td>2.0</td>\n      <td>1.0</td>\n      <td>1.0</td>\n      <td>7.0</td>\n      <td>3.0</td>\n      <td>47.0</td>\n      <td>1.0</td>\n      <td>NaN</td>\n      <td>6.0</td>\n      <td>24.0</td>\n    </tr>\n    <tr>\n      <th>4</th>\n      <td>AT-001816-01</td>\n      <td>2004.0</td>\n      <td>1.0</td>\n      <td>11.0</td>\n      <td>40.0</td>\n      <td>1.0</td>\n      <td>61.299999</td>\n      <td>40.0</td>\n      <td>40.0</td>\n      <td>3.0</td>\n      <td>...</td>\n      <td>2.0</td>\n      <td>5.0</td>\n      <td>1.0</td>\n      <td>4.0</td>\n      <td>3.0</td>\n      <td>43.0</td>\n      <td>0.0</td>\n      <td>5.0</td>\n      <td>2.0</td>\n      <td>20.0</td>\n    </tr>\n  </tbody>\n</table>\n<p>5 rows × 23 columns</p>\n</div>"
     },
     "execution_count": 19,
     "metadata": {},
     "output_type": "execute_result"
    }
   ],
   "source": [
    "# Load data in easyshare.csv\n",
    "d = pd.read_csv(\"easyshare.csv\")\n",
    "d_complex = pd.read_csv(\"easyshare_all.csv\")\n",
    "#d.head()\n",
    "# Group by 'wave' and count the unique years\n",
    "# Group by 'wave' and count the unique years\n",
    "result = d.groupby('wave')['int_year'].nunique().reset_index()\n",
    "\n",
    "# Rename the columns for clarity\n",
    "result.columns = ['wave', 'unique_years']\n",
    "\n",
    "# Display the result\n",
    "print(result)\n",
    "d.head()"
   ]
  },
  {
   "cell_type": "markdown",
   "id": "95dd5021",
   "metadata": {},
   "source": [
    "In the code block below we clean the data in the `d` data frame. Firstly, we drop any rows that have a missing value in the `cogscore` column, of which there were 976. We do this because this is precisely what we are trying to predict, and therefore if we don't know what that person's `cogscore` is then the rest of their information is useless because we don't know how it relates to `cogscore`. In addition, we drop 8 columns. Their names and the justification for dropping each is provided below:\n",
    "- **int_year**: This column is dropped because the year in which each person was interviewed is irrelevant when it comes to their cognitive abilities. What matters is their age at that year, *not* the year itself.\n",
    "- **wave**: Similarly, the wave in which each person was interviewed is not related to their *cogscore*. Presumably a person's *cogscore* may worsen with each successive wave, but this is because the person is getting older, not because they were interviewed at any given wave.\n",
    "- **citizenship**: We dropped *citizenship* because while a person's current country of residence may serve as a proxy for quality of life and access to healthcare, the person's actual citizenship is irrelevant.\n",
    "- **birth_country**: For the same reason as above *birth_country* was dropped.\n",
    "- **ch001_**: \n",
    "- **bmi2**: There are two BMI-related variables: *bmi* and *bmi2*. The former is a numerical variable with the actual BMI of the person; the latter is a categorical variable in which the person's BMI was assigned to one of 4 arbitrary categories. We chose to keep the former because it contains considerably more information than *bmi2*, which only has 4 categories.\n",
    "- **country**: We dropped this column because another country identifier (*country_mod*) also exists, and *country_mod* uses the same identifier for countries as other columns involving countries/nationalities (the ISO code), whereas *country* is the only column to use the identifiers it uses. \n",
    "- **eduyears_mod**:"
   ]
  },
  {
   "cell_type": "code",
   "execution_count": 20,
   "id": "2b90512f",
   "metadata": {
    "ExecuteTime": {
     "end_time": "2024-03-09T13:22:32.722444Z",
     "start_time": "2024-03-09T13:22:32.611990Z"
    }
   },
   "outputs": [],
   "source": [
    "binary_list = ['smoking', 'ever_smoked', 'sp008_']\n",
    "\n",
    "\n",
    "def transform_bool(x):\n",
    "    if x != np.nan:\n",
    "        if x == 5:\n",
    "            return 0\n",
    "        elif x == 1:\n",
    "            return 1\n",
    "\n",
    "for i in binary_list:\n",
    "    d[i] = d[i].apply(lambda x: transform_bool(x))\n",
    "        \n",
    "#d_complex['AT-000674-01'] = d_complex['AT-000674-01'].apply(lambda x: float(x))\n",
    "\n",
    "# Isolates the column 'cogscore' from data\n",
    "d_cogscore = d['cogscore']\n",
    "\n",
    "# Drop rows with missing 'cogscore'\n",
    "d_cleaned = d.dropna(subset=['cogscore'])\n",
    "\n",
    "# Drop multiple columns \n",
    "d_cleaned = d_cleaned.drop(['int_year', 'wave', 'citizenship', 'birth_country', 'ch001_', 'bmi2', 'country', 'eduyears_mod'], axis=1)"
   ]
  },
  {
   "cell_type": "markdown",
   "id": "7fb54a7f",
   "metadata": {},
   "source": [
    "As it stands, the *br010_mod* column in our d_cleaned data frame only captures the person's drinking patterns within the last 3 or 6 months, depending on the wave. For those who were interviewed multiple times we may have access to their drinking patterns for several waves in the larger easyshare_all.csv file. Having all of this information could provide a more truthful representation of people's true rate of alcohol consumption, since it tells us how much alcohol they consumed at several points in their lives, as opposed to just at one point, which is the information contained in the easyshare.csv file. \n",
    "\n",
    "Therefore we compute the average *br010_mod* value across all waves for each person, and store it in a new column called *alcohol*. If at any point the person did not answer when asked about their drinking patterns (represented by an NA in the *br010_mod* column) then we set the value of *alcohol* to also be NA. Finally, we merge this with our d_cleaned data frame."
   ]
  },
  {
   "cell_type": "code",
   "execution_count": 18,
   "id": "25e3ea7a",
   "metadata": {
    "ExecuteTime": {
     "end_time": "2024-03-09T13:17:02.401435Z",
     "start_time": "2024-03-09T13:16:56.717326Z"
    }
   },
   "outputs": [],
   "source": [
    "# Create a new column 'alcohol' with the mean for each patient across all waves\n",
    "d_complex['alcohol'] = d_complex.groupby('mergeid')['br010_mod'].transform(lambda x: x.mean() if (x >= 0).all() else pd.NA)\n",
    "\n",
    "\n",
    "# Select only the mergeid column (for merging) and the alcohol colun (because we're interested only in that column)\n",
    "d_complex_for_merging = d_complex[['mergeid', 'alcohol']]\n",
    "\n",
    "# Merge the simplified alcohol database with our cleaned dataframe.\n",
    "d_cleaned = d_cleaned.merge(d_complex_for_merging, on='mergeid', how='inner')\n",
    "\n",
    "# Remove any duplicated that may appear in the process.\n",
    "d_cleaned = d_cleaned.drop_duplicates()"
   ]
  },
  {
   "cell_type": "markdown",
   "id": "8a4e9e3b",
   "metadata": {},
   "source": [
    "One further variable of interest in the full *easyShare* data file is *vaccinated*, which indicates whether a person has ever bee vaccinated or not. Unfortunately, as can be seen from the code below, the vast majority of the values in the column were $-13, -15, -11$ or $-12$. What these values represent are not specified in the *easySHARE* release guide, so therefore to all extents and purposes they represent an N/A for us. We therefore decided not to include it in our analysis despite it being interesting due to insufficient data, as there are only 5979 'No' responses, which represent a tiny subset of the data."
   ]
  },
  {
   "cell_type": "code",
   "execution_count": 5,
   "id": "88373ab3",
   "metadata": {
    "ExecuteTime": {
     "end_time": "2024-03-09T13:07:12.963313Z",
     "start_time": "2024-03-09T13:07:12.955508Z"
    }
   },
   "outputs": [
    {
     "data": {
      "text/plain": "vaccinated\n-13    240380\n 1     133420\n-15     16234\n-11     13954\n 5       5979\n-12      2143\nName: count, dtype: int64"
     },
     "execution_count": 5,
     "metadata": {},
     "output_type": "execute_result"
    }
   ],
   "source": [
    "d_complex['vaccinated'].value_counts()"
   ]
  },
  {
   "cell_type": "markdown",
   "id": "b7cd5a0d",
   "metadata": {},
   "source": [
    "Further EDA reveals that none of the other categorical variables suffer from class imbalance and so we need not rearrage the categories in any of the other variables. In addition, EDA reveals that although the *easySHARE* guide warns of there being values of -3 in the *female* column, in our data frame this is not the case.\n",
    "\n",
    "We now produce a plot to show the relationship between *age* and *cogscore*. As seen in the plot below, as people get older their cognitive score decreases. This is n observation upon which we shall draw upon later. Towards the end of the graph there is significant noise but this is because at those ages there are only one or two individuals, so the sample size is not sufficiently large. "
   ]
  },
  {
   "cell_type": "code",
   "execution_count": 11,
   "id": "dd1488c2",
   "metadata": {
    "ExecuteTime": {
     "end_time": "2024-03-09T13:08:15.956121Z",
     "start_time": "2024-03-09T13:08:14.986034Z"
    }
   },
   "outputs": [
    {
     "data": {
      "text/plain": "Text(0.5, 1.0, 'Average Cognitive Score Across Ages')"
     },
     "execution_count": 11,
     "metadata": {},
     "output_type": "execute_result"
    },
    {
     "data": {
      "text/plain": "<Figure size 640x400 with 1 Axes>",
      "image/png": "[encoded data removed]"
     },
     "metadata": {},
     "output_type": "display_data"
    }
   ],
   "source": [
    "# Age is given to many decimal places so in the code block below we round it to the nearest whole number so we can aggregate.\n",
    "sns.lineplot(d_cleaned, x = d_cleaned['age'].round(), y = 'cogscore', estimator = 'mean')\n",
    "\n",
    "plt.xlabel('Age')\n",
    "plt.ylabel('Cognitive Score')\n",
    "plt.title('Average Cognitive Score Across Ages')"
   ]
  },
  {
   "cell_type": "markdown",
   "id": "522cedce",
   "metadata": {},
   "source": [
    "We want to generally explore the correlation between variables. In order to do so we drop the categorical non-ordinal (i.e. the *order* in the numbers does not represent anything) from the data frame, because in these cases the correlation number is not indicative of anything. The code below produces a heatmap, with the value in each square being the correlation between the two corresponding variables. This helps us confirm that all the variables we have chosen to retain seem to be important to predict the cognitive score of a person, with the possible exceptions of *female, bmi* and *smoking*. Nevertheless we choose to keep them due to the importance given to them in Livingston et al. (2020) and Livingston et al. (2017). "
   ]
  },
  {
   "cell_type": "code",
   "execution_count": 21,
   "id": "2607573e",
   "metadata": {
    "ExecuteTime": {
     "end_time": "2024-03-09T13:22:36.848673Z",
     "start_time": "2024-03-09T13:22:36.745617Z"
    }
   },
   "outputs": [
    {
     "ename": "ValueError",
     "evalue": "could not convert string to float: 'AT-000674-01'",
     "output_type": "error",
     "traceback": [
      "\u001B[0;31m---------------------------------------------------------------------------\u001B[0m",
      "\u001B[0;31mValueError\u001B[0m                                Traceback (most recent call last)",
      "Cell \u001B[0;32mIn[21], line 2\u001B[0m\n\u001B[1;32m      1\u001B[0m d_cleaned_numeric \u001B[38;5;241m=\u001B[39m d_cleaned\u001B[38;5;241m.\u001B[39mdrop(columns \u001B[38;5;241m=\u001B[39m [\u001B[38;5;124m'\u001B[39m\u001B[38;5;124mchronic_mod\u001B[39m\u001B[38;5;124m'\u001B[39m, \u001B[38;5;124m'\u001B[39m\u001B[38;5;124mcountry_mod\u001B[39m\u001B[38;5;124m'\u001B[39m])\n\u001B[0;32m----> 2\u001B[0m sns\u001B[38;5;241m.\u001B[39mheatmap(\u001B[43md_cleaned_numeric\u001B[49m\u001B[38;5;241;43m.\u001B[39;49m\u001B[43mcorr\u001B[49m\u001B[43m(\u001B[49m\u001B[43m)\u001B[49m, annot\u001B[38;5;241m=\u001B[39m\u001B[38;5;28;01mTrue\u001B[39;00m, fmt\u001B[38;5;241m=\u001B[39m\u001B[38;5;124m'\u001B[39m\u001B[38;5;124m.2f\u001B[39m\u001B[38;5;124m'\u001B[39m, linewidth \u001B[38;5;241m=\u001B[39m \u001B[38;5;241m2\u001B[39m, vmin \u001B[38;5;241m=\u001B[39m\u001B[38;5;241m-\u001B[39m\u001B[38;5;241m1\u001B[39m)\n",
      "File \u001B[0;32m/opt/homebrew/lib/python3.11/site-packages/pandas/core/frame.py:11022\u001B[0m, in \u001B[0;36mDataFrame.corr\u001B[0;34m(self, method, min_periods, numeric_only)\u001B[0m\n\u001B[1;32m  11020\u001B[0m cols \u001B[38;5;241m=\u001B[39m data\u001B[38;5;241m.\u001B[39mcolumns\n\u001B[1;32m  11021\u001B[0m idx \u001B[38;5;241m=\u001B[39m cols\u001B[38;5;241m.\u001B[39mcopy()\n\u001B[0;32m> 11022\u001B[0m mat \u001B[38;5;241m=\u001B[39m \u001B[43mdata\u001B[49m\u001B[38;5;241;43m.\u001B[39;49m\u001B[43mto_numpy\u001B[49m\u001B[43m(\u001B[49m\u001B[43mdtype\u001B[49m\u001B[38;5;241;43m=\u001B[39;49m\u001B[38;5;28;43mfloat\u001B[39;49m\u001B[43m,\u001B[49m\u001B[43m \u001B[49m\u001B[43mna_value\u001B[49m\u001B[38;5;241;43m=\u001B[39;49m\u001B[43mnp\u001B[49m\u001B[38;5;241;43m.\u001B[39;49m\u001B[43mnan\u001B[49m\u001B[43m,\u001B[49m\u001B[43m \u001B[49m\u001B[43mcopy\u001B[49m\u001B[38;5;241;43m=\u001B[39;49m\u001B[38;5;28;43;01mFalse\u001B[39;49;00m\u001B[43m)\u001B[49m\n\u001B[1;32m  11024\u001B[0m \u001B[38;5;28;01mif\u001B[39;00m method \u001B[38;5;241m==\u001B[39m \u001B[38;5;124m\"\u001B[39m\u001B[38;5;124mpearson\u001B[39m\u001B[38;5;124m\"\u001B[39m:\n\u001B[1;32m  11025\u001B[0m     correl \u001B[38;5;241m=\u001B[39m libalgos\u001B[38;5;241m.\u001B[39mnancorr(mat, minp\u001B[38;5;241m=\u001B[39mmin_periods)\n",
      "File \u001B[0;32m/opt/homebrew/lib/python3.11/site-packages/pandas/core/frame.py:1981\u001B[0m, in \u001B[0;36mDataFrame.to_numpy\u001B[0;34m(self, dtype, copy, na_value)\u001B[0m\n\u001B[1;32m   1979\u001B[0m \u001B[38;5;28;01mif\u001B[39;00m dtype \u001B[38;5;129;01mis\u001B[39;00m \u001B[38;5;129;01mnot\u001B[39;00m \u001B[38;5;28;01mNone\u001B[39;00m:\n\u001B[1;32m   1980\u001B[0m     dtype \u001B[38;5;241m=\u001B[39m np\u001B[38;5;241m.\u001B[39mdtype(dtype)\n\u001B[0;32m-> 1981\u001B[0m result \u001B[38;5;241m=\u001B[39m \u001B[38;5;28;43mself\u001B[39;49m\u001B[38;5;241;43m.\u001B[39;49m\u001B[43m_mgr\u001B[49m\u001B[38;5;241;43m.\u001B[39;49m\u001B[43mas_array\u001B[49m\u001B[43m(\u001B[49m\u001B[43mdtype\u001B[49m\u001B[38;5;241;43m=\u001B[39;49m\u001B[43mdtype\u001B[49m\u001B[43m,\u001B[49m\u001B[43m \u001B[49m\u001B[43mcopy\u001B[49m\u001B[38;5;241;43m=\u001B[39;49m\u001B[43mcopy\u001B[49m\u001B[43m,\u001B[49m\u001B[43m \u001B[49m\u001B[43mna_value\u001B[49m\u001B[38;5;241;43m=\u001B[39;49m\u001B[43mna_value\u001B[49m\u001B[43m)\u001B[49m\n\u001B[1;32m   1982\u001B[0m \u001B[38;5;28;01mif\u001B[39;00m result\u001B[38;5;241m.\u001B[39mdtype \u001B[38;5;129;01mis\u001B[39;00m \u001B[38;5;129;01mnot\u001B[39;00m dtype:\n\u001B[1;32m   1983\u001B[0m     result \u001B[38;5;241m=\u001B[39m np\u001B[38;5;241m.\u001B[39marray(result, dtype\u001B[38;5;241m=\u001B[39mdtype, copy\u001B[38;5;241m=\u001B[39m\u001B[38;5;28;01mFalse\u001B[39;00m)\n",
      "File \u001B[0;32m/opt/homebrew/lib/python3.11/site-packages/pandas/core/internals/managers.py:1693\u001B[0m, in \u001B[0;36mBlockManager.as_array\u001B[0;34m(self, dtype, copy, na_value)\u001B[0m\n\u001B[1;32m   1691\u001B[0m         arr\u001B[38;5;241m.\u001B[39mflags\u001B[38;5;241m.\u001B[39mwriteable \u001B[38;5;241m=\u001B[39m \u001B[38;5;28;01mFalse\u001B[39;00m\n\u001B[1;32m   1692\u001B[0m \u001B[38;5;28;01melse\u001B[39;00m:\n\u001B[0;32m-> 1693\u001B[0m     arr \u001B[38;5;241m=\u001B[39m \u001B[38;5;28;43mself\u001B[39;49m\u001B[38;5;241;43m.\u001B[39;49m\u001B[43m_interleave\u001B[49m\u001B[43m(\u001B[49m\u001B[43mdtype\u001B[49m\u001B[38;5;241;43m=\u001B[39;49m\u001B[43mdtype\u001B[49m\u001B[43m,\u001B[49m\u001B[43m \u001B[49m\u001B[43mna_value\u001B[49m\u001B[38;5;241;43m=\u001B[39;49m\u001B[43mna_value\u001B[49m\u001B[43m)\u001B[49m\n\u001B[1;32m   1694\u001B[0m     \u001B[38;5;66;03m# The underlying data was copied within _interleave, so no need\u001B[39;00m\n\u001B[1;32m   1695\u001B[0m     \u001B[38;5;66;03m# to further copy if copy=True or setting na_value\u001B[39;00m\n\u001B[1;32m   1697\u001B[0m \u001B[38;5;28;01mif\u001B[39;00m na_value \u001B[38;5;129;01mis\u001B[39;00m lib\u001B[38;5;241m.\u001B[39mno_default:\n",
      "File \u001B[0;32m/opt/homebrew/lib/python3.11/site-packages/pandas/core/internals/managers.py:1752\u001B[0m, in \u001B[0;36mBlockManager._interleave\u001B[0;34m(self, dtype, na_value)\u001B[0m\n\u001B[1;32m   1750\u001B[0m     \u001B[38;5;28;01melse\u001B[39;00m:\n\u001B[1;32m   1751\u001B[0m         arr \u001B[38;5;241m=\u001B[39m blk\u001B[38;5;241m.\u001B[39mget_values(dtype)\n\u001B[0;32m-> 1752\u001B[0m     \u001B[43mresult\u001B[49m\u001B[43m[\u001B[49m\u001B[43mrl\u001B[49m\u001B[38;5;241;43m.\u001B[39;49m\u001B[43mindexer\u001B[49m\u001B[43m]\u001B[49m \u001B[38;5;241m=\u001B[39m arr\n\u001B[1;32m   1753\u001B[0m     itemmask[rl\u001B[38;5;241m.\u001B[39mindexer] \u001B[38;5;241m=\u001B[39m \u001B[38;5;241m1\u001B[39m\n\u001B[1;32m   1755\u001B[0m \u001B[38;5;28;01mif\u001B[39;00m \u001B[38;5;129;01mnot\u001B[39;00m itemmask\u001B[38;5;241m.\u001B[39mall():\n",
      "\u001B[0;31mValueError\u001B[0m: could not convert string to float: 'AT-000674-01'"
     ]
    }
   ],
   "source": [
    "d_cleaned_numeric = d_cleaned.drop(columns = ['chronic_mod', 'country_mod'])\n",
    "sns.heatmap(d_cleaned_numeric.corr(), annot=True, fmt='.2f', linewidth = 2, vmin =-1)"
   ]
  },
  {
   "cell_type": "markdown",
   "id": "3c5f1ea1",
   "metadata": {},
   "source": [
    "The code block below produces three histograms. The one on the left shows the distribution of the age of the people in the data frame. As we can see, the youngest person is about 55. In addition, we can see that, as age increases, there are fewer and fewer people.\n",
    "\n",
    "The plot in the middle how the distribution of the cognitive score. It is approximately a bell curve centred around 12-13 points. This is perhaps somewhat surprising, because with the very small number of older people in the database, we might expect the distribution to be somewhat left skewed as there should be few people with a very small *cogscore*, given its relationship to the age of the person.\n",
    "\n",
    "Finally, the last plot shows the distribution of drinking frequency (using the *alcohol* column) coloured by whether the person is currently smoking or not. We see that a large proportion of people do not drink at all, but also that large numbers of people drink \"once or twice a week\" (corresponding to number 4) and \"almost every day\" (corresponding to number 7). In addition, a much higher proportion of those drinking almost every day were also smoking at the time of the interview than those who did not drink. "
   ]
  },
  {
   "cell_type": "code",
   "execution_count": null,
   "id": "43e945cb",
   "metadata": {},
   "outputs": [],
   "source": [
    "fig, axes = plt.subplots(1, 3, figsize=(15, 5), sharey='none')\n",
    "\n",
    "sns.histplot(ax = axes[0], data = d_cleaned, x = 'age', binwidth = 2)\n",
    "axes[0].set_title('Age distribution')\n",
    "sns.histplot(ax = axes[1], data = d_cleaned, x = 'cogscore', binwidth = 1)\n",
    "axes[1].set_title('Cognitive score distribution')\n",
    "sns.histplot(ax = axes[2], data = d_cleaned, x = 'alcohol', hue = 'smoking')\n",
    "axes[2].set_title('Drinking frequency distribution coloured by smoking')\n",
    "plt.tight_layout()"
   ]
  },
  {
   "cell_type": "markdown",
   "id": "28603fe7",
   "metadata": {},
   "source": [
    "# Introduction\n",
    "\n",
    "*This section should include a brief introduction to the task and the data (assume this is a report you are delivering to a professional body (e.g. European Union, Governments, Health Institutes and/or Charities on dementia and ageing). If you use any additional data sources, you should introduce them here and discuss why they were included.*\n",
    "\n",
    "*Briefly outline the approaches being used and the conclusions that you are able to draw.*"
   ]
  },
  {
   "cell_type": "markdown",
   "id": "af4bc461",
   "metadata": {},
   "source": [
    "# Exploratory Data Analysis and Feature Engineering\n",
    "\n",
    "*Include a detailed discussion of the data with a particular emphasis on the features of the data that are relevant for the subsequent modeling. Including visualizations of the data is strongly encouraged - all code and plots must also be described in the write up. Think carefully about whether each plot needs to be included in your final draft - your report should include figures but they should be as focused and impactful as possible.*\n",
    "\n",
    "*You should also split your data into training and testing sets, ideally before you look too much into the features and relationships with the target*\n",
    "\n",
    "*Additionally, this section should also implement and describe any preprocessing / feature engineering of the data. Specifically, this should be any code that you use to generate new columns in the data frame `d`. Feature engineering that will be performed as part of an sklearn pipeline can be mentioned here but should be implemented in the following section.*\n",
    "\n",
    "*If you decide to extract additional features from the full data (easyshare_all.csv), describe these variables here.*\n",
    "\n",
    "*All code and figures should be accompanied by text that provides an overview / context to what is being done or presented.*"
   ]
  },
  {
   "cell_type": "markdown",
   "id": "0567a551",
   "metadata": {},
   "source": [
    "In the code chunk below we split the data frame into a train set and a test set. Because we have dealt with the class imbalance in the *chronic_mod* column there is no need to stratify by any variable. We also chose *cogscore* to be the respone variable because this is obviously what we are trying to predict."
   ]
  },
  {
   "cell_type": "code",
   "execution_count": 9,
   "id": "f7c3787a",
   "metadata": {
    "ExecuteTime": {
     "end_time": "2024-03-09T13:07:16.202363Z",
     "start_time": "2024-03-09T13:07:16.169627Z"
    }
   },
   "outputs": [
    {
     "data": {
      "text/plain": "         mergeid  country_mod  female        age  isced1997_r  eurod  \\\n0   AT-000674-01         40.0     1.0  59.700001          5.0    1.0   \n3   AT-001215-01         40.0     1.0  72.599998          5.0    3.0   \n8   AT-001492-01         40.0     1.0  59.599998          3.0    2.0   \n13  AT-001492-02         40.0     0.0  59.799999          4.0    1.0   \n18  AT-001816-01         40.0     1.0  61.299999          3.0    2.0   \n\n          bmi  smoking  ever_smoked  br010_mod  br015_  casp  chronic_mod  \\\n0   24.023809      0.0          0.0        5.0     1.0  44.0          1.0   \n3   29.065928      1.0          1.0        2.0     1.0  35.0         22.0   \n8   21.410946      0.0          1.0        7.0     2.0  43.0          1.0   \n13  23.198315      1.0          1.0        7.0     3.0  47.0          1.0   \n18  23.722811      0.0          1.0        4.0     3.0  43.0          0.0   \n\n    sp008_  cogscore alcohol  \n0      0.0       8.0    <NA>  \n3      1.0      14.5    <NA>  \n8      0.0      18.5    <NA>  \n13     NaN      24.0    <NA>  \n18     0.0      20.0     4.0  ",
      "text/html": "<div>\n<style scoped>\n    .dataframe tbody tr th:only-of-type {\n        vertical-align: middle;\n    }\n\n    .dataframe tbody tr th {\n        vertical-align: top;\n    }\n\n    .dataframe thead th {\n        text-align: right;\n    }\n</style>\n<table border=\"1\" class=\"dataframe\">\n  <thead>\n    <tr style=\"text-align: right;\">\n      <th></th>\n      <th>mergeid</th>\n      <th>country_mod</th>\n      <th>female</th>\n      <th>age</th>\n      <th>isced1997_r</th>\n      <th>eurod</th>\n      <th>bmi</th>\n      <th>smoking</th>\n      <th>ever_smoked</th>\n      <th>br010_mod</th>\n      <th>br015_</th>\n      <th>casp</th>\n      <th>chronic_mod</th>\n      <th>sp008_</th>\n      <th>cogscore</th>\n      <th>alcohol</th>\n    </tr>\n  </thead>\n  <tbody>\n    <tr>\n      <th>0</th>\n      <td>AT-000674-01</td>\n      <td>40.0</td>\n      <td>1.0</td>\n      <td>59.700001</td>\n      <td>5.0</td>\n      <td>1.0</td>\n      <td>24.023809</td>\n      <td>0.0</td>\n      <td>0.0</td>\n      <td>5.0</td>\n      <td>1.0</td>\n      <td>44.0</td>\n      <td>1.0</td>\n      <td>0.0</td>\n      <td>8.0</td>\n      <td>&lt;NA&gt;</td>\n    </tr>\n    <tr>\n      <th>3</th>\n      <td>AT-001215-01</td>\n      <td>40.0</td>\n      <td>1.0</td>\n      <td>72.599998</td>\n      <td>5.0</td>\n      <td>3.0</td>\n      <td>29.065928</td>\n      <td>1.0</td>\n      <td>1.0</td>\n      <td>2.0</td>\n      <td>1.0</td>\n      <td>35.0</td>\n      <td>22.0</td>\n      <td>1.0</td>\n      <td>14.5</td>\n      <td>&lt;NA&gt;</td>\n    </tr>\n    <tr>\n      <th>8</th>\n      <td>AT-001492-01</td>\n      <td>40.0</td>\n      <td>1.0</td>\n      <td>59.599998</td>\n      <td>3.0</td>\n      <td>2.0</td>\n      <td>21.410946</td>\n      <td>0.0</td>\n      <td>1.0</td>\n      <td>7.0</td>\n      <td>2.0</td>\n      <td>43.0</td>\n      <td>1.0</td>\n      <td>0.0</td>\n      <td>18.5</td>\n      <td>&lt;NA&gt;</td>\n    </tr>\n    <tr>\n      <th>13</th>\n      <td>AT-001492-02</td>\n      <td>40.0</td>\n      <td>0.0</td>\n      <td>59.799999</td>\n      <td>4.0</td>\n      <td>1.0</td>\n      <td>23.198315</td>\n      <td>1.0</td>\n      <td>1.0</td>\n      <td>7.0</td>\n      <td>3.0</td>\n      <td>47.0</td>\n      <td>1.0</td>\n      <td>NaN</td>\n      <td>24.0</td>\n      <td>&lt;NA&gt;</td>\n    </tr>\n    <tr>\n      <th>18</th>\n      <td>AT-001816-01</td>\n      <td>40.0</td>\n      <td>1.0</td>\n      <td>61.299999</td>\n      <td>3.0</td>\n      <td>2.0</td>\n      <td>23.722811</td>\n      <td>0.0</td>\n      <td>1.0</td>\n      <td>4.0</td>\n      <td>3.0</td>\n      <td>43.0</td>\n      <td>0.0</td>\n      <td>0.0</td>\n      <td>20.0</td>\n      <td>4.0</td>\n    </tr>\n  </tbody>\n</table>\n</div>"
     },
     "execution_count": 9,
     "metadata": {},
     "output_type": "execute_result"
    }
   ],
   "source": [
    "train_set, test_set = train_test_split(d_cleaned, train_size = 0.8, random_state = 15)\n",
    "\n",
    "y_response = 'cogscore' # response variable\n",
    "d_cleaned.head()"
   ]
  },
  {
   "cell_type": "markdown",
   "id": "a2979d54",
   "metadata": {},
   "source": [
    "The binary categorical variables need not be encoded, as we did this previously with *smoking, ever_smoked* and *sp008_*. In addition, *female* has already been encoded for us, because as we saw previously the only values the variable takes in our data frame are 1 and 0."
   ]
  },
  {
   "cell_type": "markdown",
   "id": "7bc9fe39",
   "metadata": {},
   "source": [
    "# Model Fitting and Tuning\n",
    "\n",
    "*In this section you should detail your choice of model and describe the process used to refine and fit that model. You are strongly encouraged to explore many different modeling methods (e.g. linear regression, interaction terms, lasso, etc.) but you should not include a detailed narrative of all of these attempts. At most this section should mention the methods explored and why they were rejected - most of your effort should go into describing the model you are using and your process for tuning and validating it.*\n",
    "\n",
    "*For example if you considered a linear regression model, a polynomial regression, and a lasso model and ultimately settled on the linear regression approach then you should mention that other two approaches were tried but do not include any of the code or any in depth discussion of these models beyond why they were rejected. This section should then detail is the development of the linear regression model in terms of features used, interactions considered, and any additional tuning and validation which ultimately led to your final model.* \n",
    "\n",
    "*This section should also include the full implementation of your final model, including all necessary validation. As with figures, any included code must also be addressed in the text of the document.*\n",
    "\n",
    "*Finally, you should also provide comparison of your model with baseline model(s) on the test data but only briefly describe the baseline model(s) considered*"
   ]
  },
  {
   "cell_type": "markdown",
   "id": "308a9c84",
   "metadata": {},
   "source": [
    "# Discussion & Conclusions\n",
    "\n",
    "*In this section you should provide a general overview of your final model, its performance, and reliability. You should discuss what the implications of your model are in terms of the included features, predictive performance, and anything else you think is relevant.*\n",
    "\n",
    "*This should be written with a target audience of a government official or charity directy, who is understands the pressing challenges associated with ageining and dementia but may only have university level mathematics (not necessarily postgraduate statistics or machine learning). Your goal should be to highlight to this audience how your model can useful. You should also mention potential limitations of your model.*\n",
    "\n",
    "*Finally, you should include recommendations on potential lifestyle changes or governmental/societal interventions to reduce dementia risk.*\n",
    "\n",
    "*Keep in mind that a negative result, i.e. a model that does not work well predictively, that is well explained and justified in terms of why it failed will likely receive higher marks than a model with strong predictive performance but with poor or incorrect explinations / justifications.*"
   ]
  },
  {
   "cell_type": "markdown",
   "id": "4fd5781e",
   "metadata": {},
   "source": [
    "# References\n",
    "\n",
    "*Include references if any*"
   ]
  },
  {
   "cell_type": "code",
   "execution_count": null,
   "id": "0e3625a7",
   "metadata": {},
   "outputs": [],
   "source": [
    "# Run the following to render to PDF\n",
    "!jupyter nbconvert --to pdf project1.ipynb"
   ]
  }
 ],
 "metadata": {
  "authors": [
   {
    "name": "Student 1"
   },
   {
    "name": "Student 2"
   }
  ],
  "kernelspec": {
   "display_name": "Python 3 (ipykernel)",
   "language": "python",
   "name": "python3"
  },
  "language_info": {
   "codemirror_mode": {
    "name": "ipython",
    "version": 3
   },
   "file_extension": ".py",
   "mimetype": "text/x-python",
   "name": "python",
   "nbconvert_exporter": "python",
   "pygments_lexer": "ipython3",
   "version": "3.9.13"
  },
  "title": "Project 1: Predicting Dementia Severity"
 },
 "nbformat": 4,
 "nbformat_minor": 5
}
