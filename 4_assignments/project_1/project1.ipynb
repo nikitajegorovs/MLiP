{
 "cells": [
  {
   "cell_type": "markdown",
   "id": "8281b6f8",
   "metadata": {},
   "source": [
    "# Machine Learning in Python - Project 1\n",
    "\n",
    "Due Friday, March 8th by 4 pm.\n",
    "\n",
    "*Include contributors names in notebook metadata or here*"
   ]
  },
  {
   "cell_type": "markdown",
   "id": "821233d2",
   "metadata": {},
   "source": [
    "## Setup\n",
    "\n",
    "*Install any packages here and load data*"
   ]
  },
  {
   "cell_type": "code",
   "execution_count": 3,
   "id": "7e1ba94a",
   "metadata": {
    "ExecuteTime": {
     "end_time": "2024-03-05T14:35:39.061576Z",
     "start_time": "2024-03-05T14:35:39.004684Z"
    }
   },
   "outputs": [],
   "source": [
    "# Add any additional libraries or submodules below\n",
    "\n",
    "# Data libraries\n",
    "import pandas as pd\n",
    "import numpy as np\n",
    "\n",
    "# Plotting libraries\n",
    "import matplotlib.pyplot as plt\n",
    "import seaborn as sns\n",
    "\n",
    "# Plotting defaults\n",
    "plt.rcParams['figure.figsize'] = (8,5)\n",
    "plt.rcParams['figure.dpi'] = 80\n",
    "\n",
    "# sklearn modules\n",
    "import sklearn"
   ]
  },
  {
   "cell_type": "code",
   "execution_count": 4,
   "id": "62abe5f5",
   "metadata": {
    "ExecuteTime": {
     "end_time": "2024-03-05T14:35:40.099411Z",
     "start_time": "2024-03-05T14:35:39.959984Z"
    }
   },
   "outputs": [
    {
     "data": {
      "text/plain": "        mergeid  int_year  wave  country  country_mod  female        age  \\\n0  AT-000674-01    2011.0   4.0     11.0         40.0     1.0  59.700001   \n1  AT-001215-01    2011.0   4.0     11.0         40.0     1.0  72.599998   \n2  AT-001492-01    2011.0   4.0     11.0         40.0     1.0  59.599998   \n3  AT-001492-02    2011.0   4.0     11.0         40.0     0.0  59.799999   \n4  AT-001816-01    2004.0   1.0     11.0         40.0     1.0  61.299999   \n\n   birth_country  citizenship  isced1997_r  ...  bmi2  smoking  ever_smoked  \\\n0           40.0         40.0          5.0  ...   2.0      5.0          5.0   \n1          528.0        528.0          5.0  ...   3.0      1.0          1.0   \n2           40.0         40.0          3.0  ...   2.0      5.0          1.0   \n3           40.0         40.0          4.0  ...   2.0      1.0          1.0   \n4           40.0         40.0          3.0  ...   2.0      5.0          1.0   \n\n   br010_mod  br015_  casp  chronic_mod  sp008_  ch001_  cogscore  \n0        5.0     1.0  44.0          1.0     5.0     2.0       8.0  \n1        2.0     1.0  35.0          6.0     1.0     0.0      14.5  \n2        7.0     2.0  43.0          1.0     5.0     6.0      18.5  \n3        7.0     3.0  47.0          1.0     NaN     6.0      24.0  \n4        4.0     3.0  43.0          0.0     5.0     2.0      20.0  \n\n[5 rows x 23 columns]",
      "text/html": "<div>\n<style scoped>\n    .dataframe tbody tr th:only-of-type {\n        vertical-align: middle;\n    }\n\n    .dataframe tbody tr th {\n        vertical-align: top;\n    }\n\n    .dataframe thead th {\n        text-align: right;\n    }\n</style>\n<table border=\"1\" class=\"dataframe\">\n  <thead>\n    <tr style=\"text-align: right;\">\n      <th></th>\n      <th>mergeid</th>\n      <th>int_year</th>\n      <th>wave</th>\n      <th>country</th>\n      <th>country_mod</th>\n      <th>female</th>\n      <th>age</th>\n      <th>birth_country</th>\n      <th>citizenship</th>\n      <th>isced1997_r</th>\n      <th>...</th>\n      <th>bmi2</th>\n      <th>smoking</th>\n      <th>ever_smoked</th>\n      <th>br010_mod</th>\n      <th>br015_</th>\n      <th>casp</th>\n      <th>chronic_mod</th>\n      <th>sp008_</th>\n      <th>ch001_</th>\n      <th>cogscore</th>\n    </tr>\n  </thead>\n  <tbody>\n    <tr>\n      <th>0</th>\n      <td>AT-000674-01</td>\n      <td>2011.0</td>\n      <td>4.0</td>\n      <td>11.0</td>\n      <td>40.0</td>\n      <td>1.0</td>\n      <td>59.700001</td>\n      <td>40.0</td>\n      <td>40.0</td>\n      <td>5.0</td>\n      <td>...</td>\n      <td>2.0</td>\n      <td>5.0</td>\n      <td>5.0</td>\n      <td>5.0</td>\n      <td>1.0</td>\n      <td>44.0</td>\n      <td>1.0</td>\n      <td>5.0</td>\n      <td>2.0</td>\n      <td>8.0</td>\n    </tr>\n    <tr>\n      <th>1</th>\n      <td>AT-001215-01</td>\n      <td>2011.0</td>\n      <td>4.0</td>\n      <td>11.0</td>\n      <td>40.0</td>\n      <td>1.0</td>\n      <td>72.599998</td>\n      <td>528.0</td>\n      <td>528.0</td>\n      <td>5.0</td>\n      <td>...</td>\n      <td>3.0</td>\n      <td>1.0</td>\n      <td>1.0</td>\n      <td>2.0</td>\n      <td>1.0</td>\n      <td>35.0</td>\n      <td>6.0</td>\n      <td>1.0</td>\n      <td>0.0</td>\n      <td>14.5</td>\n    </tr>\n    <tr>\n      <th>2</th>\n      <td>AT-001492-01</td>\n      <td>2011.0</td>\n      <td>4.0</td>\n      <td>11.0</td>\n      <td>40.0</td>\n      <td>1.0</td>\n      <td>59.599998</td>\n      <td>40.0</td>\n      <td>40.0</td>\n      <td>3.0</td>\n      <td>...</td>\n      <td>2.0</td>\n      <td>5.0</td>\n      <td>1.0</td>\n      <td>7.0</td>\n      <td>2.0</td>\n      <td>43.0</td>\n      <td>1.0</td>\n      <td>5.0</td>\n      <td>6.0</td>\n      <td>18.5</td>\n    </tr>\n    <tr>\n      <th>3</th>\n      <td>AT-001492-02</td>\n      <td>2011.0</td>\n      <td>4.0</td>\n      <td>11.0</td>\n      <td>40.0</td>\n      <td>0.0</td>\n      <td>59.799999</td>\n      <td>40.0</td>\n      <td>40.0</td>\n      <td>4.0</td>\n      <td>...</td>\n      <td>2.0</td>\n      <td>1.0</td>\n      <td>1.0</td>\n      <td>7.0</td>\n      <td>3.0</td>\n      <td>47.0</td>\n      <td>1.0</td>\n      <td>NaN</td>\n      <td>6.0</td>\n      <td>24.0</td>\n    </tr>\n    <tr>\n      <th>4</th>\n      <td>AT-001816-01</td>\n      <td>2004.0</td>\n      <td>1.0</td>\n      <td>11.0</td>\n      <td>40.0</td>\n      <td>1.0</td>\n      <td>61.299999</td>\n      <td>40.0</td>\n      <td>40.0</td>\n      <td>3.0</td>\n      <td>...</td>\n      <td>2.0</td>\n      <td>5.0</td>\n      <td>1.0</td>\n      <td>4.0</td>\n      <td>3.0</td>\n      <td>43.0</td>\n      <td>0.0</td>\n      <td>5.0</td>\n      <td>2.0</td>\n      <td>20.0</td>\n    </tr>\n  </tbody>\n</table>\n<p>5 rows × 23 columns</p>\n</div>"
     },
     "execution_count": 4,
     "metadata": {},
     "output_type": "execute_result"
    }
   ],
   "source": [
    "# Load data in easyshare.csv\n",
    "d = pd.read_csv(\"easyshare.csv\")\n",
    "d.head()"
   ]
  },
  {
   "cell_type": "markdown",
   "id": "28603fe7",
   "metadata": {},
   "source": [
    "# Introduction\n",
    "\n",
    "*This section should include a brief introduction to the task and the data (assume this is a report you are delivering to a professional body (e.g. European Union, Governments, Health Institutes and/or Charities on dementia and ageing). If you use any additional data sources, you should introduce them here and discuss why they were included.*\n",
    "\n",
    "*Briefly outline the approaches being used and the conclusions that you are able to draw.*"
   ]
  },
  {
   "cell_type": "raw",
   "source": [
    "####TODO write intro"
   ],
   "metadata": {
    "collapsed": false
   },
   "id": "8dcab1f2fb9ae2df"
  },
  {
   "cell_type": "raw",
   "source": [],
   "metadata": {
    "collapsed": false
   },
   "id": "674258116b8858ff"
  },
  {
   "cell_type": "markdown",
   "id": "af4bc461",
   "metadata": {},
   "source": [
    "# Exploratory Data Analysis and Feature Engineering\n",
    "\n",
    "*Include a detailed discussion of the data with a particular emphasis on the features of the data that are relevant for the subsequent modeling. Including visualizations of the data is strongly encouraged - all code and plots must also be described in the write up. Think carefully about whether each plot needs to be included in your final draft - your report should include figures but they should be as focused and impactful as possible.*\n",
    "\n",
    "*You should also split your data into training and testing sets, ideally before you look to much into the features and relationships with the target*\n",
    "\n",
    "*Additionally, this section should also implement and describe any preprocessing / feature engineering of the data. Specifically, this should be any code that you use to generate new columns in the data frame `d`. Feature engineering that will be performed as part of an sklearn pipeline can be mentioned here but should be implemented in the following section.*\n",
    "\n",
    "*If you decide to extract additional features from the full data (easyshare_all.csv), describe these variables here.*\n",
    "\n",
    "*All code and figures should be accompanied by text that provides an overview / context to what is being done or presented.*"
   ]
  },
  {
   "cell_type": "markdown",
   "source": [
    "\n",
    "* mergeid - person identifier\n",
    "* wave - wave identifier\n",
    "* country - country identifier\n",
    "* country mod - modified country identifier\n",
    "* female - dummy encoded gender with 0 for male and 1 for female\n",
    "* age - age at interview\n",
    "* birth country - country of birth\n",
    "* citizenship - citizenship of respondent\n",
    "* isced1997 r - ISCED-97 encoding of education (6 levels - see pg. 11 of data guide)\n",
    "* eduyears mod - years of education\n",
    "* eurod - depression scale ranging from 0 “not depressed” to 12 “very depressed”\n",
    "* bmi - body mass index\n",
    "* bmi2 - categorized body mass index\n",
    "* smoking - smoke at present time\n",
    "* ever smoked - ever smoked daily\n",
    "* br010 mod - drinking behavior\n",
    "* br015 - vigorous activities\n",
    "* casp - CASP-12 score measures quality of life and is based on four subscales on control,\n",
    "autonomy, pleasure and self-realization, ranges from 12 to 48\n",
    "* chronic mod - number of chronic diseases\n",
    "* sp008 - gives help to others outside the household\n",
    "* ch001 - number of children\n",
    "* cogscore - measure of cognitive function combining results from two numeracy tests, two"
   ],
   "metadata": {
    "collapsed": false
   },
   "id": "79294081d6fec1d4"
  },
  {
   "cell_type": "code",
   "outputs": [
    {
     "data": {
      "text/plain": "       int_year      wave   country  country_mod    female       age  \\\ncount  97372.00  97372.00  97372.00     97372.00  97372.00  97372.00   \nmean    2010.47      3.79     24.27       384.95      0.54     67.94   \nstd        4.63      2.15     12.30       229.26      0.50      8.86   \nmin     2004.00      1.00     11.00        40.00      0.00     55.10   \n25%     2006.00      2.00     15.00       208.00      0.00     60.50   \n50%     2011.00      4.00     20.00       300.00      1.00     66.60   \n75%     2013.00      5.00     31.00       616.00      1.00     74.20   \nmax     2020.00      8.00     63.00       756.00      1.00    111.60   \n\n       birth_country  citizenship  isced1997_r  eduyears_mod  ...      bmi2  \\\ncount       97170.00     97281.00     97372.00      84532.00  ...  94686.00   \nmean          398.30       391.76         2.66         10.43  ...      2.85   \nstd           237.54       232.97         1.49          4.26  ...      0.76   \nmin             2.00         4.00         0.00          0.00  ...      1.00   \n25%           208.00       208.00         1.00          8.00  ...      2.00   \n50%           348.00       348.00         3.00         11.00  ...      3.00   \n75%           642.00       620.00         3.00         13.00  ...      3.00   \nmax          1101.00      1132.00         6.00         30.00  ...      4.00   \n\n        smoking  ever_smoked  br010_mod    br015_      casp  chronic_mod  \\\ncount  96887.00     97116.00   79210.00  97113.00  84065.00     97283.00   \nmean       4.34         3.26       3.35      2.67     36.74         1.31   \nstd        1.48         1.98       2.24      1.33      6.46         1.27   \nmin        1.00         1.00       1.00      1.00     12.00         0.00   \n25%        5.00         1.00       1.00      1.00     32.00         0.00   \n50%        5.00         5.00       3.00      3.00     37.00         1.00   \n75%        5.00         5.00       5.00      4.00     42.00         2.00   \nmax        5.00         5.00       7.00      4.00     48.00         9.00   \n\n         sp008_    ch001_  cogscore  \ncount  83175.00  96928.00  97372.00  \nmean       3.98      2.17     11.97  \nstd        1.74      1.40      4.18  \nmin        1.00      0.00      0.00  \n25%        1.00      1.00      9.00  \n50%        5.00      2.00     12.00  \n75%        5.00      3.00     15.00  \nmax        5.00     17.00     26.00  \n\n[8 rows x 22 columns]",
      "text/html": "<div>\n<style scoped>\n    .dataframe tbody tr th:only-of-type {\n        vertical-align: middle;\n    }\n\n    .dataframe tbody tr th {\n        vertical-align: top;\n    }\n\n    .dataframe thead th {\n        text-align: right;\n    }\n</style>\n<table border=\"1\" class=\"dataframe\">\n  <thead>\n    <tr style=\"text-align: right;\">\n      <th></th>\n      <th>int_year</th>\n      <th>wave</th>\n      <th>country</th>\n      <th>country_mod</th>\n      <th>female</th>\n      <th>age</th>\n      <th>birth_country</th>\n      <th>citizenship</th>\n      <th>isced1997_r</th>\n      <th>eduyears_mod</th>\n      <th>...</th>\n      <th>bmi2</th>\n      <th>smoking</th>\n      <th>ever_smoked</th>\n      <th>br010_mod</th>\n      <th>br015_</th>\n      <th>casp</th>\n      <th>chronic_mod</th>\n      <th>sp008_</th>\n      <th>ch001_</th>\n      <th>cogscore</th>\n    </tr>\n  </thead>\n  <tbody>\n    <tr>\n      <th>count</th>\n      <td>97372.00</td>\n      <td>97372.00</td>\n      <td>97372.00</td>\n      <td>97372.00</td>\n      <td>97372.00</td>\n      <td>97372.00</td>\n      <td>97170.00</td>\n      <td>97281.00</td>\n      <td>97372.00</td>\n      <td>84532.00</td>\n      <td>...</td>\n      <td>94686.00</td>\n      <td>96887.00</td>\n      <td>97116.00</td>\n      <td>79210.00</td>\n      <td>97113.00</td>\n      <td>84065.00</td>\n      <td>97283.00</td>\n      <td>83175.00</td>\n      <td>96928.00</td>\n      <td>97372.00</td>\n    </tr>\n    <tr>\n      <th>mean</th>\n      <td>2010.47</td>\n      <td>3.79</td>\n      <td>24.27</td>\n      <td>384.95</td>\n      <td>0.54</td>\n      <td>67.94</td>\n      <td>398.30</td>\n      <td>391.76</td>\n      <td>2.66</td>\n      <td>10.43</td>\n      <td>...</td>\n      <td>2.85</td>\n      <td>4.34</td>\n      <td>3.26</td>\n      <td>3.35</td>\n      <td>2.67</td>\n      <td>36.74</td>\n      <td>1.31</td>\n      <td>3.98</td>\n      <td>2.17</td>\n      <td>11.97</td>\n    </tr>\n    <tr>\n      <th>std</th>\n      <td>4.63</td>\n      <td>2.15</td>\n      <td>12.30</td>\n      <td>229.26</td>\n      <td>0.50</td>\n      <td>8.86</td>\n      <td>237.54</td>\n      <td>232.97</td>\n      <td>1.49</td>\n      <td>4.26</td>\n      <td>...</td>\n      <td>0.76</td>\n      <td>1.48</td>\n      <td>1.98</td>\n      <td>2.24</td>\n      <td>1.33</td>\n      <td>6.46</td>\n      <td>1.27</td>\n      <td>1.74</td>\n      <td>1.40</td>\n      <td>4.18</td>\n    </tr>\n    <tr>\n      <th>min</th>\n      <td>2004.00</td>\n      <td>1.00</td>\n      <td>11.00</td>\n      <td>40.00</td>\n      <td>0.00</td>\n      <td>55.10</td>\n      <td>2.00</td>\n      <td>4.00</td>\n      <td>0.00</td>\n      <td>0.00</td>\n      <td>...</td>\n      <td>1.00</td>\n      <td>1.00</td>\n      <td>1.00</td>\n      <td>1.00</td>\n      <td>1.00</td>\n      <td>12.00</td>\n      <td>0.00</td>\n      <td>1.00</td>\n      <td>0.00</td>\n      <td>0.00</td>\n    </tr>\n    <tr>\n      <th>25%</th>\n      <td>2006.00</td>\n      <td>2.00</td>\n      <td>15.00</td>\n      <td>208.00</td>\n      <td>0.00</td>\n      <td>60.50</td>\n      <td>208.00</td>\n      <td>208.00</td>\n      <td>1.00</td>\n      <td>8.00</td>\n      <td>...</td>\n      <td>2.00</td>\n      <td>5.00</td>\n      <td>1.00</td>\n      <td>1.00</td>\n      <td>1.00</td>\n      <td>32.00</td>\n      <td>0.00</td>\n      <td>1.00</td>\n      <td>1.00</td>\n      <td>9.00</td>\n    </tr>\n    <tr>\n      <th>50%</th>\n      <td>2011.00</td>\n      <td>4.00</td>\n      <td>20.00</td>\n      <td>300.00</td>\n      <td>1.00</td>\n      <td>66.60</td>\n      <td>348.00</td>\n      <td>348.00</td>\n      <td>3.00</td>\n      <td>11.00</td>\n      <td>...</td>\n      <td>3.00</td>\n      <td>5.00</td>\n      <td>5.00</td>\n      <td>3.00</td>\n      <td>3.00</td>\n      <td>37.00</td>\n      <td>1.00</td>\n      <td>5.00</td>\n      <td>2.00</td>\n      <td>12.00</td>\n    </tr>\n    <tr>\n      <th>75%</th>\n      <td>2013.00</td>\n      <td>5.00</td>\n      <td>31.00</td>\n      <td>616.00</td>\n      <td>1.00</td>\n      <td>74.20</td>\n      <td>642.00</td>\n      <td>620.00</td>\n      <td>3.00</td>\n      <td>13.00</td>\n      <td>...</td>\n      <td>3.00</td>\n      <td>5.00</td>\n      <td>5.00</td>\n      <td>5.00</td>\n      <td>4.00</td>\n      <td>42.00</td>\n      <td>2.00</td>\n      <td>5.00</td>\n      <td>3.00</td>\n      <td>15.00</td>\n    </tr>\n    <tr>\n      <th>max</th>\n      <td>2020.00</td>\n      <td>8.00</td>\n      <td>63.00</td>\n      <td>756.00</td>\n      <td>1.00</td>\n      <td>111.60</td>\n      <td>1101.00</td>\n      <td>1132.00</td>\n      <td>6.00</td>\n      <td>30.00</td>\n      <td>...</td>\n      <td>4.00</td>\n      <td>5.00</td>\n      <td>5.00</td>\n      <td>7.00</td>\n      <td>4.00</td>\n      <td>48.00</td>\n      <td>9.00</td>\n      <td>5.00</td>\n      <td>17.00</td>\n      <td>26.00</td>\n    </tr>\n  </tbody>\n</table>\n<p>8 rows × 22 columns</p>\n</div>"
     },
     "execution_count": 5,
     "metadata": {},
     "output_type": "execute_result"
    }
   ],
   "source": [
    "d.describe().round(2)"
   ],
   "metadata": {
    "collapsed": false,
    "ExecuteTime": {
     "end_time": "2024-03-05T14:35:43.524163Z",
     "start_time": "2024-03-05T14:35:43.424384Z"
    }
   },
   "id": "b62391e1eb4b4c4d",
   "execution_count": 5
  },
  {
   "cell_type": "code",
   "outputs": [
    {
     "ename": "NameError",
     "evalue": "name 'sns' is not defined",
     "output_type": "error",
     "traceback": [
      "\u001B[0;31m---------------------------------------------------------------------------\u001B[0m",
      "\u001B[0;31mNameError\u001B[0m                                 Traceback (most recent call last)",
      "Cell \u001B[0;32mIn[1], line 1\u001B[0m\n\u001B[0;32m----> 1\u001B[0m \u001B[43msns\u001B[49m\u001B[38;5;241m.\u001B[39mheatmap(d\u001B[38;5;241m.\u001B[39mcorr(numeric_only\u001B[38;5;241m=\u001B[39m\u001B[38;5;28;01mTrue\u001B[39;00m)\u001B[38;5;66;03m#, annot=True\u001B[39;00m\n\u001B[1;32m      2\u001B[0m             )\n",
      "\u001B[0;31mNameError\u001B[0m: name 'sns' is not defined"
     ]
    }
   ],
   "source": [
    "sns.heatmap(d.corr(numeric_only=True)#, annot=True\n",
    "            )"
   ],
   "metadata": {
    "collapsed": false,
    "ExecuteTime": {
     "end_time": "2024-03-05T19:26:46.189210Z",
     "start_time": "2024-03-05T19:26:46.031600Z"
    }
   },
   "id": "e205efec63213fa9",
   "execution_count": 1
  },
  {
   "cell_type": "markdown",
   "source": [
    "# Model Fitting and Tuning\n",
    "\n",
    "*In this section you should detail your choice of model and describe the process used to refine and fit that model. You are strongly encouraged to explore many different modeling methods (e.g. linear regression, interaction terms, lasso, etc.) but you should not include a detailed narrative of all of these attempts. At most this section should mention the methods explored and why they were rejected - most of your effort should go into describing the model you are using and your process for tuning and validating it.*\n",
    "\n",
    "*For example if you considered a linear regression model, a polynomial regression, and a lasso model and ultimately settled on the linear regression approach then you should mention that other two approaches were tried but do not include any of the code or any in depth discussion of these models beyond why they were rejected. This section should then detail is the development of the linear regression model in terms of features used, interactions considered, and any additional tuning and validation which ultimately led to your final model.* \n",
    "\n",
    "*This section should also include the full implementation of your final model, including all necessary validation. As with figures, any included code must also be addressed in the text of the document.*\n",
    "\n",
    "*Finally, you should also provide comparison of your model with baseline model(s) on the test data but only briefly describe the baseline model(s) considered*"
   ],
   "metadata": {},
   "id": "7bc9fe39"
  },
  {
   "cell_type": "markdown",
   "id": "308a9c84",
   "metadata": {},
   "source": [
    "# Discussion & Conclusions\n",
    "\n",
    "*In this section you should provide a general overview of your final model, its performance, and reliability. You should discuss what the implications of your model are in terms of the included features, predictive performance, and anything else you think is relevant.*\n",
    "\n",
    "*This should be written with a target audience of a government official or charity directy, who is understands the pressing challenges associated with ageining and dementia but may only have university level mathematics (not necessarily postgraduate statistics or machine learning). Your goal should be to highlight to this audience how your model can useful. You should also mention potential limitations of your model.*\n",
    "\n",
    "*Finally, you should include recommendations on potential lifestyle changes or governmental/societal interventions to reduce dementia risk.*\n",
    "\n",
    "*Keep in mind that a negative result, i.e. a model that does not work well predictively, that is well explained and justified in terms of why it failed will likely receive higher marks than a model with strong predictive performance but with poor or incorrect explinations / justifications.*"
   ]
  },
  {
   "cell_type": "markdown",
   "id": "4fd5781e",
   "metadata": {},
   "source": [
    "# References\n",
    "\n",
    "*Include references if any*"
   ]
  },
  {
   "cell_type": "code",
   "execution_count": null,
   "id": "0e3625a7",
   "metadata": {},
   "outputs": [],
   "source": [
    "# Run the following to render to PDF\n",
    "!jupyter nbconvert --to pdf project1.ipynb"
   ]
  }
 ],
 "metadata": {
  "authors": [
   {
    "name": "Student 1"
   },
   {
    "name": "Student 2"
   }
  ],
  "kernelspec": {
   "display_name": "Python 3 (ipykernel)",
   "language": "python",
   "name": "python3"
  },
  "language_info": {
   "codemirror_mode": {
    "name": "ipython",
    "version": 3
   },
   "file_extension": ".py",
   "mimetype": "text/x-python",
   "name": "python",
   "nbconvert_exporter": "python",
   "pygments_lexer": "ipython3",
   "version": "3.9.7"
  },
  "title": "Project 1: Predicting Dementia Severity"
 },
 "nbformat": 4,
 "nbformat_minor": 5
}
